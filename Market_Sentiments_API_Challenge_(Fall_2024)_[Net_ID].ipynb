{
  "nbformat": 4,
  "nbformat_minor": 0,
  "metadata": {
    "colab": {
      "provenance": [],
      "toc_visible": true,
      "include_colab_link": true
    },
    "kernelspec": {
      "name": "python3",
      "display_name": "Python 3"
    },
    "language_info": {
      "name": "python"
    }
  },
  "cells": [
    {
      "cell_type": "markdown",
      "metadata": {
        "id": "view-in-github",
        "colab_type": "text"
      },
      "source": [
        "<a href=\"https://colab.research.google.com/github/Shambhaviadhikari/Bisection-Methods/blob/main/Market_Sentiments_API_Challenge_(Fall_2024)_%5BNet_ID%5D.ipynb\" target=\"_parent\"><img src=\"https://colab.research.google.com/assets/colab-badge.svg\" alt=\"Open In Colab\"/></a>"
      ]
    },
    {
      "cell_type": "markdown",
      "source": [
        "## Instructions"
      ],
      "metadata": {
        "id": "MDICBA7uvnoJ"
      }
    },
    {
      "cell_type": "markdown",
      "source": [
        "For this exercise, we will request news sentiment data about a given company from the AlphaVantage API, and then display a news feed of articles that are relevant to that company.\n",
        "\n",
        "\n",
        "It may be helpful to take a few minutes to consult the documentation for the [News and Sentiments API endpoint](https://www.alphavantage.co/documentation/#news-sentiment) to learn more, and make a plan, before developing a solution.\n",
        "\n",
        "First develop your solution in a step by step way, using the \"Scratch Work\" section at the bottom (which will not be evaluated). Then when you are satisfied, return to implement your final code in the \"Solution\" section, within a custom function that is invoked within the context of a dashboard-style interface.\n",
        "\n",
        "\n"
      ],
      "metadata": {
        "id": "AfqHoHor_3ED"
      }
    },
    {
      "cell_type": "markdown",
      "source": [
        "## Requirements"
      ],
      "metadata": {
        "id": "ggI1E00LBGDZ"
      }
    },
    {
      "cell_type": "markdown",
      "source": [
        "\n",
        "Define a function called `display_articles`. The function should accept a string parameter called `symbol` and a float parameter called `min_relevance` (a value between 0 and 1). The default values for these parameters should be \"NFLX\" and 0.5, respectively.\n",
        "\n",
        "When invoked (including from the \"Stocks Selection Form\"), the function should:\n",
        "\n",
        "  + A) fetch news sentiments data about the given company, and\n",
        "  + B) display information about only the relevant articles (i.e. **only those articles that have a ticker-specific relevance score greater than the specified minimum value**).\n",
        "\n",
        "For any article that meets the criteria, the function should specifically display the following information about that article:\n",
        "\n",
        "  + **Title**\n",
        "  + **Source**\n",
        "  + **Author** (just the first one is fine)\n",
        "  + **Image** (ideally displayed using [`IPython.display`](https://github.com/prof-rossetti/intro-to-python/blob/main/notes/python/packages/ipython.md#displaying-images))\n",
        "  + **Summary**\n",
        "  + **URL**\n",
        "  + **Ticker-Specific Sentiment Score** (for the selected company only)\n",
        "  + **Ticker-Specific Relevance Score** (for the selected company only)\n",
        "\n"
      ],
      "metadata": {
        "id": "NPZ2xMKYBHkF"
      }
    },
    {
      "cell_type": "markdown",
      "source": [
        "\n",
        "Here is an example output:\n",
        "\n",
        "<img height=\"400\" alt=\"Screenshot 2023-09-25 at 4 41 20 PM\" src=\"https://github.com/prof-rossetti/intro-to-python/assets/1328807/1a9caf8a-e31c-49e6-add8-89ac50a4b9b6\">\n",
        "\n",
        "> NOTE: your results will look different depending on when you run the dashboard"
      ],
      "metadata": {
        "id": "YjCWJrhZE_Yu"
      }
    },
    {
      "cell_type": "markdown",
      "source": [
        "## Evaluation"
      ],
      "metadata": {
        "id": "EAlBKEed8iST"
      }
    },
    {
      "cell_type": "markdown",
      "source": [
        "Submissions will be evaluated according to the \"Requirements\" section below, as represented by the following rubric:\n",
        "\n",
        "Category | Requirement | Weight\n",
        "--- | --- | ---\n",
        "Security | Securely handles the API Key. Avoids exposure by asking for a secure input, and avoids printing or hard-coding the key. | 20%\n",
        "Function | Function works properly and all solution code is packaged inside. | 25%\n",
        "Info Outputs | Presents all desired article summary information, ideally in a clear way with clean formatting. | 40%\n",
        "Info Outputs | Displays article images, as applicable | 10%\n",
        "\n",
        "This rubric is tentative, and may be subject to slight adjustments during the grading process.\n",
        "\n",
        "If experiencing execution error(s) while evaluating the application's required functionality, evaluators are advised to reduce the project's grade by between 4% and 25%, depending on the circumstances and severity of the error(s).\n",
        "\n"
      ],
      "metadata": {
        "id": "yJosJ5Qv8kj8"
      }
    },
    {
      "cell_type": "markdown",
      "source": [
        "## Setup\n"
      ],
      "metadata": {
        "id": "OIH1FeThxMn_"
      }
    },
    {
      "cell_type": "markdown",
      "source": [
        "### API Key\n"
      ],
      "metadata": {
        "id": "msvuiCfV_Rlq"
      }
    },
    {
      "cell_type": "markdown",
      "source": [
        "\n",
        "\n",
        "Obtain a free AlphaVantage API Key, or use one of the prof's premium keys, and set it as a notebook secret called \"ALPHAVANTAGE_API_KEY\".  \n",
        "\n",
        "Your code should reference this `API_KEY` variable when making requests."
      ],
      "metadata": {
        "id": "E7LM9kwAiZKj"
      }
    },
    {
      "cell_type": "code",
      "source": [
        "from google.colab import userdata\n",
        "\n",
        "API_KEY = userdata.get(\"ALPHAVANTAGE_API_KEY\")"
      ],
      "metadata": {
        "id": "volez18go4Xw"
      },
      "execution_count": null,
      "outputs": []
    },
    {
      "cell_type": "markdown",
      "source": [
        "## Solution"
      ],
      "metadata": {
        "id": "8x6uXETRmZu9"
      }
    },
    {
      "cell_type": "markdown",
      "source": [
        "\n",
        "> NOTE: Only the code in this solution section will be evaluated. All solution code needs to be packaged inside the function so that it is executed when the function is invoked!\n"
      ],
      "metadata": {
        "id": "wceut1AizhXQ"
      }
    },
    {
      "cell_type": "code",
      "source": [
        "\n",
        "\n",
        "def display_articles(symbol=\"NFLX\", min_relevance=0.5):\n",
        "\n",
        "    print(\"NEWS FOR:\", symbol)\n",
        "    print(\"MIN RELEVANCE:\", min_relevance)\n",
        "\n",
        "    # todo: display the articles\n",
        "\n",
        "\n",
        "\n"
      ],
      "metadata": {
        "id": "XAg8z2xnpcCz"
      },
      "execution_count": null,
      "outputs": []
    },
    {
      "cell_type": "markdown",
      "source": [
        "### Stock Selection Form"
      ],
      "metadata": {
        "id": "frkQ-V4NxBR6"
      }
    },
    {
      "cell_type": "code",
      "source": [
        "#@markdown Select a stock and a minimum relevance threshold. Then run the cell to display news artices relevant to that company.\n",
        "\n",
        "symbol = \"NFLX\"  #@param ['AAPL', 'GOOG', 'MSFT', 'NFLX']\n",
        "\n",
        "min_relevance = 0.2  #@param {type: \"slider\", min: 0, max: 1, step: 0.1}\n",
        "\n",
        "display_articles(symbol=symbol, min_relevance=min_relevance)"
      ],
      "metadata": {
        "colab": {
          "base_uri": "https://localhost:8080/"
        },
        "id": "Zm28YXBAo71-",
        "outputId": "5ac78cd5-e04b-4f7c-920d-590f4bf94670"
      },
      "execution_count": null,
      "outputs": [
        {
          "output_type": "stream",
          "name": "stdout",
          "text": [
            "NEWS FOR: NFLX\n",
            "MIN RELEVANCE: 0.2\n"
          ]
        }
      ]
    },
    {
      "cell_type": "markdown",
      "source": [
        "## Scratch Work"
      ],
      "metadata": {
        "id": "jy0_dkxerqQd"
      }
    },
    {
      "cell_type": "markdown",
      "source": [
        "Feel free to use the section below for scratch work, which will not be evaluated.\n",
        "\n",
        "If there is any solution code make sure to include it in the \"Solution\" section above instead!"
      ],
      "metadata": {
        "id": "ljz1uhFKBtFt"
      }
    },
    {
      "cell_type": "markdown",
      "source": [
        "\n",
        "A) Ask the user to input a stock symbol (i.e. \"NFLX\") and store it in a variable called `symbol`. Then print the selected symbol. Assume the user inputs a valid symbol (i.e. no need for validations).\n"
      ],
      "metadata": {
        "id": "jpkyjKg1juYm"
      }
    },
    {
      "cell_type": "code",
      "source": [],
      "metadata": {
        "id": "CZNNfVhdjttO"
      },
      "execution_count": null,
      "outputs": []
    },
    {
      "cell_type": "code",
      "source": [],
      "metadata": {
        "id": "PLa2Q48Jk7Z0"
      },
      "execution_count": null,
      "outputs": []
    },
    {
      "cell_type": "markdown",
      "source": [
        "B) After consulting the API docs, find the desired request URL for Market News and Sentiments, and create a string variable called `request_url` to represent this URL. Use string concatenation or a format string to join the `symbol` variable from Part A with the prodived `API_KEY` variable from the setup cell. Assume the user has input a valid API Key (i.e. no need for validations).\n",
        "\n",
        "> NOTE: To include news across all categories, let's not supply any topic related parameters in our requests. The only URL parameters we should need are `function` and `tickers` and `apikey` (ignore all other params). See example provided below."
      ],
      "metadata": {
        "id": "R7GTe028jv1G"
      }
    },
    {
      "cell_type": "code",
      "source": [
        "# request_url = \"https://www.alphavantage.co/query?function=NEWS_SENTIMENT&tickers=TODO&apikey=TODO\"\n",
        "\n",
        "\n"
      ],
      "metadata": {
        "id": "johEn5Gls4F0"
      },
      "execution_count": null,
      "outputs": []
    },
    {
      "cell_type": "code",
      "source": [],
      "metadata": {
        "id": "KtHlTBtxkymi"
      },
      "execution_count": null,
      "outputs": []
    },
    {
      "cell_type": "code",
      "source": [],
      "metadata": {
        "id": "tSszXo9Mk60B"
      },
      "execution_count": null,
      "outputs": []
    },
    {
      "cell_type": "markdown",
      "source": [
        "\n",
        "C) Using the `request_url` variable from Part B, make an HTTP request for the market news and sentiments about the given company, and store the  response in a variable called `response`. Then convert the resulting JSON-formatted response data into a Python variable called `data`. Access the \"feed\" property of the data and store this in a variable called `articles`. Then print the number of articles (i.e. 50).\n"
      ],
      "metadata": {
        "id": "mYyjmmlUjxPE"
      }
    },
    {
      "cell_type": "code",
      "source": [],
      "metadata": {
        "id": "PZjmq6S6kRpb"
      },
      "execution_count": null,
      "outputs": []
    },
    {
      "cell_type": "code",
      "source": [],
      "metadata": {
        "id": "2wqG7hNkkx2k"
      },
      "execution_count": null,
      "outputs": []
    },
    {
      "cell_type": "code",
      "source": [],
      "metadata": {
        "id": "2xbAaT_qsh-g"
      },
      "execution_count": null,
      "outputs": []
    },
    {
      "cell_type": "markdown",
      "source": [
        "\n",
        "\n",
        "\n",
        "\n",
        "\n",
        "D) Loop through the first three articles and print the following information about each:\n",
        "  + **Title**\n",
        "  + **Author** (just the first one is fine)\n",
        "  + **Image** (ideally displayed using [`IPython.display`](https://github.com/prof-rossetti/intro-to-python/blob/main/notes/python/packages/ipython.md#displaying-images))\n",
        "  + **Summary**\n",
        "  + **URL**\n",
        "  + **Ticker-Specific Sentiment Score** (for the selected company only)\n",
        "  + **Ticker-Specific Relevance Score** (for the selected company only)\n",
        "\n"
      ],
      "metadata": {
        "id": "V6wchUMeiEtK"
      }
    },
    {
      "cell_type": "code",
      "source": [
        "# from IPython.display import Image, display\n"
      ],
      "metadata": {
        "id": "TpVpgSPJvEJZ"
      },
      "execution_count": null,
      "outputs": []
    },
    {
      "cell_type": "code",
      "source": [],
      "metadata": {
        "id": "pDBP3K5Jk6CM"
      },
      "execution_count": null,
      "outputs": []
    },
    {
      "cell_type": "code",
      "source": [],
      "metadata": {
        "id": "ZsPJp3xMk50k"
      },
      "execution_count": null,
      "outputs": []
    },
    {
      "cell_type": "markdown",
      "source": [
        "\n",
        "E) Let's only display information for articles that have a high relevance for this company (i.e. those with a ticker-specific relevance score greater than 50%). Use a filter operation to display information about only the articles that meet this criteria.\n",
        "\n",
        "> NOTE: the API docs mention a parameter related to relevance, however let's ignore this and use the same data that was previously requested.\n",
        "\n"
      ],
      "metadata": {
        "id": "GuCvkfq1j0Ep"
      }
    },
    {
      "cell_type": "code",
      "source": [],
      "metadata": {
        "id": "M5nFf7rzofM3"
      },
      "execution_count": null,
      "outputs": []
    },
    {
      "cell_type": "code",
      "execution_count": null,
      "metadata": {
        "id": "W2F8prgmh6AY"
      },
      "outputs": [],
      "source": []
    }
  ]
}